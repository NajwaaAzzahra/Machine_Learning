{
  "nbformat": 4,
  "nbformat_minor": 0,
  "metadata": {
    "colab": {
      "provenance": [],
      "authorship_tag": "ABX9TyMya5p4wmoa8yztoUvTw5Ow",
      "include_colab_link": true
    },
    "kernelspec": {
      "name": "python3",
      "display_name": "Python 3"
    },
    "language_info": {
      "name": "python"
    }
  },
  "cells": [
    {
      "cell_type": "markdown",
      "metadata": {
        "id": "view-in-github",
        "colab_type": "text"
      },
      "source": [
        "<a href=\"https://colab.research.google.com/github/NajwaaAzzahra/Machine_Learning/blob/main/Pertemuan%209/Jobsheet_ANN_Najwa.ipynb\" target=\"_parent\"><img src=\"https://colab.research.google.com/assets/colab-badge.svg\" alt=\"Open In Colab\"/></a>"
      ]
    },
    {
      "cell_type": "markdown",
      "source": [
        "# Najwa Azzahra\n",
        "# TI-3C/19\n",
        "# 2241720139\n",
        "**Jobsheet ANN**"
      ],
      "metadata": {
        "id": "SD7bgmbqgRqc"
      }
    },
    {
      "cell_type": "code",
      "execution_count": null,
      "metadata": {
        "id": "DP3oMqulgNkv"
      },
      "outputs": [],
      "source": []
    }
  ]
}