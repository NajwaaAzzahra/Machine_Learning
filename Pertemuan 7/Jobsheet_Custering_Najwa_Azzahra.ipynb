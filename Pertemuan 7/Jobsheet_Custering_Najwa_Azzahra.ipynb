{
  "nbformat": 4,
  "nbformat_minor": 0,
  "metadata": {
    "colab": {
      "provenance": [],
      "authorship_tag": "ABX9TyO0BbKwkepdtK6HQziWSlWi",
      "include_colab_link": true
    },
    "kernelspec": {
      "name": "python3",
      "display_name": "Python 3"
    },
    "language_info": {
      "name": "python"
    }
  },
  "cells": [
    {
      "cell_type": "markdown",
      "metadata": {
        "id": "view-in-github",
        "colab_type": "text"
      },
      "source": [
        "<a href=\"https://colab.research.google.com/github/NajwaaAzzahra/Machine_Learning/blob/main/Pertemuan%207/Jobsheet_Custering_Najwa_Azzahra.ipynb\" target=\"_parent\"><img src=\"https://colab.research.google.com/assets/colab-badge.svg\" alt=\"Open In Colab\"/></a>"
      ]
    },
    {
      "cell_type": "markdown",
      "source": [
        "#Najwa Azzahra\n",
        "#TI-3C/19\n",
        "#2241720139\n",
        "\n",
        "**Jobsheet Clustering**"
      ],
      "metadata": {
        "id": "aOf2Rg5BBZsW"
      }
    },
    {
      "cell_type": "code",
      "execution_count": null,
      "metadata": {
        "id": "14vOmDwQBF0A"
      },
      "outputs": [],
      "source": []
    }
  ]
}